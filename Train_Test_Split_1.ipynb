{
  "nbformat": 4,
  "nbformat_minor": 0,
  "metadata": {
    "colab": {
      "provenance": [],
      "authorship_tag": "ABX9TyMdbGuockDmgNpjY5sUIx9r",
      "include_colab_link": true
    },
    "kernelspec": {
      "name": "python3",
      "display_name": "Python 3"
    },
    "language_info": {
      "name": "python"
    }
  },
  "cells": [
    {
      "cell_type": "markdown",
      "metadata": {
        "id": "view-in-github",
        "colab_type": "text"
      },
      "source": [
        "<a href=\"https://colab.research.google.com/github/pranjal-jain-byte/demo/blob/main/Train_Test_Split_1.ipynb\" target=\"_parent\"><img src=\"https://colab.research.google.com/assets/colab-badge.svg\" alt=\"Open In Colab\"/></a>"
      ]
    },
    {
      "cell_type": "code",
      "execution_count": 9,
      "metadata": {
        "id": "QU4aWjzZsURa"
      },
      "outputs": [],
      "source": [
        "import numpy as np\n",
        "import pandas as pd\n",
        "import matplotlib.pyplot as plt\n",
        "from sklearn.model_selection import train_test_split"
      ]
    },
    {
      "cell_type": "code",
      "source": [
        "a = np.arange(1,101)\n",
        "a"
      ],
      "metadata": {
        "colab": {
          "base_uri": "https://localhost:8080/"
        },
        "id": "o6kFiZ-5sghG",
        "outputId": "1cab3344-4739-49e1-ec76-57467d0e81e2"
      },
      "execution_count": 10,
      "outputs": [
        {
          "output_type": "execute_result",
          "data": {
            "text/plain": [
              "array([  1,   2,   3,   4,   5,   6,   7,   8,   9,  10,  11,  12,  13,\n",
              "        14,  15,  16,  17,  18,  19,  20,  21,  22,  23,  24,  25,  26,\n",
              "        27,  28,  29,  30,  31,  32,  33,  34,  35,  36,  37,  38,  39,\n",
              "        40,  41,  42,  43,  44,  45,  46,  47,  48,  49,  50,  51,  52,\n",
              "        53,  54,  55,  56,  57,  58,  59,  60,  61,  62,  63,  64,  65,\n",
              "        66,  67,  68,  69,  70,  71,  72,  73,  74,  75,  76,  77,  78,\n",
              "        79,  80,  81,  82,  83,  84,  85,  86,  87,  88,  89,  90,  91,\n",
              "        92,  93,  94,  95,  96,  97,  98,  99, 100])"
            ]
          },
          "metadata": {},
          "execution_count": 10
        }
      ]
    },
    {
      "cell_type": "code",
      "source": [
        "b = np.arange(501,601)\n",
        "b"
      ],
      "metadata": {
        "colab": {
          "base_uri": "https://localhost:8080/"
        },
        "id": "0maiOWMqs3Q-",
        "outputId": "daef7b6b-2ba4-466f-9a16-95b2a7980c7a"
      },
      "execution_count": 11,
      "outputs": [
        {
          "output_type": "execute_result",
          "data": {
            "text/plain": [
              "array([501, 502, 503, 504, 505, 506, 507, 508, 509, 510, 511, 512, 513,\n",
              "       514, 515, 516, 517, 518, 519, 520, 521, 522, 523, 524, 525, 526,\n",
              "       527, 528, 529, 530, 531, 532, 533, 534, 535, 536, 537, 538, 539,\n",
              "       540, 541, 542, 543, 544, 545, 546, 547, 548, 549, 550, 551, 552,\n",
              "       553, 554, 555, 556, 557, 558, 559, 560, 561, 562, 563, 564, 565,\n",
              "       566, 567, 568, 569, 570, 571, 572, 573, 574, 575, 576, 577, 578,\n",
              "       579, 580, 581, 582, 583, 584, 585, 586, 587, 588, 589, 590, 591,\n",
              "       592, 593, 594, 595, 596, 597, 598, 599, 600])"
            ]
          },
          "metadata": {},
          "execution_count": 11
        }
      ]
    },
    {
      "cell_type": "code",
      "source": [
        "a_train , a_test , b_train , b_test = train_test_split(a,b,test_size = 0.2 , random_state = 42)\n"
      ],
      "metadata": {
        "id": "SBWUqXjutCe9"
      },
      "execution_count": 12,
      "outputs": []
    },
    {
      "cell_type": "code",
      "source": [
        "a_train.shape\n"
      ],
      "metadata": {
        "colab": {
          "base_uri": "https://localhost:8080/"
        },
        "id": "ItnHKnx9t0XM",
        "outputId": "1b82ff1e-342e-4933-e4e6-64b2e6cdb50b"
      },
      "execution_count": 13,
      "outputs": [
        {
          "output_type": "execute_result",
          "data": {
            "text/plain": [
              "(80,)"
            ]
          },
          "metadata": {},
          "execution_count": 13
        }
      ]
    },
    {
      "cell_type": "code",
      "source": [
        "a_test.shape"
      ],
      "metadata": {
        "colab": {
          "base_uri": "https://localhost:8080/"
        },
        "id": "xZCsCf1Lt2HM",
        "outputId": "10ff5efd-6431-4f88-ea7b-ac61ec30aa0d"
      },
      "execution_count": 14,
      "outputs": [
        {
          "output_type": "execute_result",
          "data": {
            "text/plain": [
              "(20,)"
            ]
          },
          "metadata": {},
          "execution_count": 14
        }
      ]
    },
    {
      "cell_type": "code",
      "source": [
        "b_train.shape"
      ],
      "metadata": {
        "colab": {
          "base_uri": "https://localhost:8080/"
        },
        "id": "mdaPXZc1t5tM",
        "outputId": "9d5a1993-64e6-4f96-d6c2-5e0d428cc6c8"
      },
      "execution_count": 15,
      "outputs": [
        {
          "output_type": "execute_result",
          "data": {
            "text/plain": [
              "(80,)"
            ]
          },
          "metadata": {},
          "execution_count": 15
        }
      ]
    },
    {
      "cell_type": "code",
      "source": [
        "b_test.shape"
      ],
      "metadata": {
        "colab": {
          "base_uri": "https://localhost:8080/"
        },
        "id": "MsJMYIQzt-LU",
        "outputId": "85e7d455-a0b1-4576-d041-5c2d5496f2ee"
      },
      "execution_count": 16,
      "outputs": [
        {
          "output_type": "execute_result",
          "data": {
            "text/plain": [
              "(20,)"
            ]
          },
          "metadata": {},
          "execution_count": 16
        }
      ]
    },
    {
      "cell_type": "code",
      "source": [
        "a_train\n"
      ],
      "metadata": {
        "colab": {
          "base_uri": "https://localhost:8080/"
        },
        "id": "Lz-RpcGUuBlE",
        "outputId": "5e6bb1c8-6178-4388-d43d-9203031f192a"
      },
      "execution_count": 17,
      "outputs": [
        {
          "output_type": "execute_result",
          "data": {
            "text/plain": [
              "array([ 56,  89,  27,  43,  70,  16,  41,  97,  10,  73,  12,  48,  86,\n",
              "        29,  94,   6,  67,  66,  36,  17,  50,  35,   8,  96,  28,  20,\n",
              "        82,  26,  63,  14,  25,   4,  18,  39,   9,  79,   7,  65,  37,\n",
              "        90,  57, 100,  55,  44,  51,  68,  47,  69,  62,  98,  80,  42,\n",
              "        59,  49,  99,  58,  76,  33,  95,  60,  64,  85,  38,  30,   2,\n",
              "        53,  22,   3,  24,  88,  92,  75,  87,  83,  21,  61,  72,  15,\n",
              "        93,  52])"
            ]
          },
          "metadata": {},
          "execution_count": 17
        }
      ]
    },
    {
      "cell_type": "code",
      "source": [
        "a_test\n"
      ],
      "metadata": {
        "colab": {
          "base_uri": "https://localhost:8080/"
        },
        "id": "0vJc1nSHuDI8",
        "outputId": "d62d1a66-f184-4a42-b617-db7ca6ec727f"
      },
      "execution_count": 18,
      "outputs": [
        {
          "output_type": "execute_result",
          "data": {
            "text/plain": [
              "array([84, 54, 71, 46, 45, 40, 23, 81, 11,  1, 19, 31, 74, 34, 91,  5, 77,\n",
              "       78, 13, 32])"
            ]
          },
          "metadata": {},
          "execution_count": 18
        }
      ]
    },
    {
      "cell_type": "code",
      "source": [
        "b_train\n"
      ],
      "metadata": {
        "colab": {
          "base_uri": "https://localhost:8080/"
        },
        "id": "ftdAjBwCuExk",
        "outputId": "dd2ff339-c1d4-4c1b-956c-761891feb245"
      },
      "execution_count": 19,
      "outputs": [
        {
          "output_type": "execute_result",
          "data": {
            "text/plain": [
              "array([556, 589, 527, 543, 570, 516, 541, 597, 510, 573, 512, 548, 586,\n",
              "       529, 594, 506, 567, 566, 536, 517, 550, 535, 508, 596, 528, 520,\n",
              "       582, 526, 563, 514, 525, 504, 518, 539, 509, 579, 507, 565, 537,\n",
              "       590, 557, 600, 555, 544, 551, 568, 547, 569, 562, 598, 580, 542,\n",
              "       559, 549, 599, 558, 576, 533, 595, 560, 564, 585, 538, 530, 502,\n",
              "       553, 522, 503, 524, 588, 592, 575, 587, 583, 521, 561, 572, 515,\n",
              "       593, 552])"
            ]
          },
          "metadata": {},
          "execution_count": 19
        }
      ]
    },
    {
      "cell_type": "code",
      "source": [
        "b_test"
      ],
      "metadata": {
        "colab": {
          "base_uri": "https://localhost:8080/"
        },
        "id": "v9uaE7D3uGbb",
        "outputId": "4b6f553b-01d5-4aa6-99c0-06aee9acad70"
      },
      "execution_count": 20,
      "outputs": [
        {
          "output_type": "execute_result",
          "data": {
            "text/plain": [
              "array([584, 554, 571, 546, 545, 540, 523, 581, 511, 501, 519, 531, 574,\n",
              "       534, 591, 505, 577, 578, 513, 532])"
            ]
          },
          "metadata": {},
          "execution_count": 20
        }
      ]
    },
    {
      "cell_type": "code",
      "source": [
        "train_test_split(a,test_size = 0.2, random_state = 42)\n"
      ],
      "metadata": {
        "colab": {
          "base_uri": "https://localhost:8080/"
        },
        "id": "vr2qKQnOuSPN",
        "outputId": "07b64e0d-0447-4b4e-ec77-425083d25941"
      },
      "execution_count": 25,
      "outputs": [
        {
          "output_type": "execute_result",
          "data": {
            "text/plain": [
              "[array([ 56,  89,  27,  43,  70,  16,  41,  97,  10,  73,  12,  48,  86,\n",
              "         29,  94,   6,  67,  66,  36,  17,  50,  35,   8,  96,  28,  20,\n",
              "         82,  26,  63,  14,  25,   4,  18,  39,   9,  79,   7,  65,  37,\n",
              "         90,  57, 100,  55,  44,  51,  68,  47,  69,  62,  98,  80,  42,\n",
              "         59,  49,  99,  58,  76,  33,  95,  60,  64,  85,  38,  30,   2,\n",
              "         53,  22,   3,  24,  88,  92,  75,  87,  83,  21,  61,  72,  15,\n",
              "         93,  52]),\n",
              " array([84, 54, 71, 46, 45, 40, 23, 81, 11,  1, 19, 31, 74, 34, 91,  5, 77,\n",
              "        78, 13, 32])]"
            ]
          },
          "metadata": {},
          "execution_count": 25
        }
      ]
    }
  ]
}